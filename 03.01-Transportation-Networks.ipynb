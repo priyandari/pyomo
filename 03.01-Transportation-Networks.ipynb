{
 "cells": [
  {
   "attachments": {},
   "cell_type": "markdown",
   "metadata": {
    "colab_type": "text",
    "id": "jMxww7mcmaBK",
    "pycharm": {}
   },
   "source": [
    "# Transportation Networks\n",
    "\n",
    "Keywords: transportation, assignment, cbc usage\n",
    "\n",
    "Tutorial ini diambil dari contoh penggunaan pyomo pada link berikut ini:\n",
    "https://jckantor.github.io/ND-Pyomo-Cookbook/notebooks/03.01-Transportation-Networks.html#\n",
    "\n",
    "Model transportation network problems menggunakan Pyomo dan GLPK. Deskrispi masalah dari Johannes Bisschop, [\"AIMMS Optimization Modeling\", AIMMS B. V., 2014](http://download.aimms.com/aimms/download/manuals/AIMMS3_OM.pdf).\n"
   ]
  },
  {
   "attachments": {},
   "cell_type": "markdown",
   "metadata": {
    "pycharm": {
     "metadata": false,
     "name": "#%% md\n"
    }
   },
   "source": [
    "## Latar Belakang Permasalahan\n",
    "\n",
    "Permasalahan transportasi berkaitan dengan distributisi komoditas dari sejumlah titik sumber pasokan ke titik-titik tujuan. Tujuannya adalah meminimasi total biaya transportasi dan memenuhi sejumlah batasan pasokan untuk setiap sumber pemasok, dan memenuhi permintaan (demand) sejumlah titik.\n",
    "\n",
    "Terdapat dua pabrik dan enam pelanggan yang berada di delapan lokasi kota-kota di Eropa seperti diilustrasikan dalam peta. Pelanggan berwarna merah dan pabrik berwarna biru."
   ]
  },
  {
   "attachments": {},
   "cell_type": "markdown",
   "metadata": {
    "colab_type": "text",
    "id": "i2uB5hYLmaBN",
    "pycharm": {}
   },
   "source": [
    "![images/TransportationNetworksMap.png](images/TransportationNetworksMap.png)"
   ]
  },
  {
   "attachments": {},
   "cell_type": "markdown",
   "metadata": {
    "colab_type": "text",
    "id": "P7FCxssgmaBP",
    "pycharm": {}
   },
   "source": [
    "**Biaya transportasi** antara titik pabrik ke pelanggan **per unit** dalam **&euro;/ton** pengiriman barang, disajikan dalam tabel.\n",
    "\n",
    "*Analogi kasus lain*.\n",
    "\n",
    "Biaya alokasi adalah biaya (rp) perkilometer dikali dengan demand potensial yang dilayani oleh titik sumber. Sehingga **Biaya (Rp) = (Cij)/demand x demand = (Rp/km x km)/demand x demand**.  Demand di suatu titik dalam bentuk potensial demand (berupa bobot permintaan).  \n",
    "sehingga berapa alokasi ke titik permintaan untuk melayani sebagian atau seluruh potensial demand, dipengaruhi juga jarak km dari titik permintaan ke titik pelayanan (sources).\n",
    "\n",
    "Tujuannya sama, meminimumkan biaya, karena jika jarak km dari titik permintaan ke titik layanan jauh, maka Cij besar dikali dengan besarnya potensial demand yang akan dilayani.\n",
    "\n",
    "\n"
   ]
  },
  {
   "attachments": {},
   "cell_type": "markdown",
   "metadata": {
    "pycharm": {
     "metadata": false,
     "name": "#%% md\n"
    }
   },
   "source": [
    "### Table Biaya transportasi, demand pelanggan, dan kapasitas suplai pemasok\n",
    "\n",
    "| Customer\\Pemasok | Arnhem [&euro;/ton] | Gouda [&euro;/ton] | Demand [tons]|\n",
    "| :--: | :----: | :---: | :----: |\n",
    "| London | - | 2.5 | 125 |\n",
    "| Berlin | 2.5 | - | 175 |\n",
    "| Maastricht | 1.6 | 2.0 | 225 |\n",
    "| Amsterdam | 1.4 | 1.0 | 250 |\n",
    "| Utrecht | 0.8 | 1.0 | 225 |\n",
    "| The Hague | 1.4 | 0.8 | 200 |\n",
    "| **Supply [tons]** | 550 tons | 700 tons |  |\n",
    "\n",
    "#### Table biaya untuk analogi kasus yang lain di atas.\n",
    "Nilai di bawah kolom Jebres dan Manahan adalah menyatakan Biaya (Cij)/demand), seperti dijelaskan sebelumnya. Misalkan Jebres ke Manahan Rp 7/demand. Baris supply adalah informasi maksimum nilai supply yg bisa dilakukan dari sumber layanan.\n",
    "| Permintaan\\Sumber | Jebres  [Rp/demand] | Manahan [Rp/demand] | Demand [bobot]|\n",
    "| :--: | :----: | :---: | :----: |\n",
    "| Jebres | - | 7 | 125 |\n",
    "| Manahan | 7.5 | - | 175 |\n",
    "| .... | - | - | 225 |\n",
    "| Balapan | 4 | 4.5 | 250 |\n",
    "| Purwosari | 9 | 4.5 | 225 |\n",
    "| **Supply [demand]** | 600  | 650 |  |\n",
    "\n",
    "\n",
    "Situasi masalah tersebut dapat dimodelkan sebagai model jaringan transportasi antara titik sumber (pemasok) ke titik pelanggan.\n",
    "\n",
    "![TransportNet.png](images/TransportNet.png)\n",
    "\n",
    "Untuk setiap titik terdapat sebuah **parameter** $T[c,s]$ menyatakan biaya pengiriman per ton barang melalui sebuah link. Permasalahannya adalah menentukan jumlah barang yang dikirim pada setiap link, sebagai **variabel keputusan** non-negative $x[c,s]$.\n",
    "\n",
    "**Fungsi tujuan** adalah meminimasi total  biaya pengiriman ke semua titik pelanggan dari titik pemasok. \n",
    "\n",
    "$${minimize:}\\quad {Cost} = \\sum_{c \\in Pelanggan}\\sum_{s \\in Pemasoks} T[c,s] x[c,s]$$\n",
    "\n",
    "Pengiriman dari semua titik pemasok tidak boleh melebihi kapasitas produksi titik sumber.\n",
    "\n",
    "$$\\sum_{c \\in Pelanggan} x[c,s] \\leq {Supply}[s] \\qquad \\forall s \\in Pemasok$$\n",
    "\n",
    "Pengiriman ke titik pelanggan harus memenuhi demand setiap pelanggan.\n",
    "\n",
    "$$\\sum_{s\\in Pemasoks} x[c,s] = {Demand}[c] \\qquad \\forall c \\in Pelanggan$$"
   ]
  },
  {
   "cell_type": "markdown",
   "metadata": {
    "colab_type": "text",
    "id": "Z6lxj4h7mfBA",
    "pycharm": {}
   },
   "source": [
    "## Pyomo model"
   ]
  },
  {
   "cell_type": "code",
   "execution_count": 1,
   "metadata": {
    "colab": {},
    "colab_type": "code",
    "id": "WdqEo2IbmjQu",
    "pycharm": {}
   },
   "outputs": [],
   "source": [
    "from pyomo.environ import *"
   ]
  },
  {
   "cell_type": "markdown",
   "metadata": {
    "colab_type": "text",
    "id": "KVTGAB_rmaBR",
    "pycharm": {}
   },
   "source": [
    "### Data File"
   ]
  },
  {
   "cell_type": "code",
   "execution_count": 2,
   "metadata": {
    "colab": {},
    "colab_type": "code",
    "id": "PWTg-VkImaBR",
    "pycharm": {}
   },
   "outputs": [],
   "source": [
    "# Tipe data dictionary\n",
    "Demand = {\n",
    "   'Lon': 125,        # London\n",
    "   'Ber': 175,        # Berlin\n",
    "   'Maa': 225,        # Maastricht\n",
    "   'Ams': 250,        # Amsterdam\n",
    "   'Utr': 225,        # Utrecht\n",
    "   'Hag': 200         # The Hague\n",
    "}\n",
    "\n",
    "Supply = {\n",
    "   'Arn': 600,        # Arnhem\n",
    "   'Gou': 650         # Gouda\n",
    "}\n",
    "\n",
    "T = {\n",
    "    ('Lon', 'Arn'): 1000,\n",
    "    ('Lon', 'Gou'): 2.5,\n",
    "    ('Ber', 'Arn'): 2.5,\n",
    "    ('Ber', 'Gou'): 1000,\n",
    "    ('Maa', 'Arn'): 1.6,\n",
    "    ('Maa', 'Gou'): 2.0,\n",
    "    ('Ams', 'Arn'): 1.4,\n",
    "    ('Ams', 'Gou'): 1.0,\n",
    "    ('Utr', 'Arn'): 0.8,\n",
    "    ('Utr', 'Gou'): 1.0,\n",
    "    ('Hag', 'Arn'): 1.4,\n",
    "    ('Hag', 'Gou'): 0.8\n",
    "}"
   ]
  },
  {
   "cell_type": "markdown",
   "metadata": {
    "colab_type": "text",
    "id": "Xzn73cqWmaBX",
    "pycharm": {}
   },
   "source": [
    "### Model file"
   ]
  },
  {
   "cell_type": "code",
   "execution_count": 3,
   "metadata": {
    "colab": {
     "base_uri": "https://localhost:8080/",
     "height": 527
    },
    "colab_type": "code",
    "executionInfo": {
     "elapsed": 7319,
     "status": "ok",
     "timestamp": 1555699291817,
     "user": {
      "displayName": "Jeffrey Kantor",
      "photoUrl": "https://lh5.googleusercontent.com/-8zK5aAW5RMQ/AAAAAAAAAAI/AAAAAAAAKB0/kssUQyz8DTQ/s64/photo.jpg",
      "userId": "09038942003589296665"
     },
     "user_tz": 240
    },
    "id": "cVoqn1ozmaBX",
    "outputId": "2a0fc8aa-3d16-4128-a12c-95b4e8b6dd55",
    "pycharm": {}
   },
   "outputs": [
    {
     "name": "stdout",
     "output_type": "stream",
     "text": [
      "# ==========================================================\n",
      "# = Solver Results                                         =\n",
      "# ==========================================================\n",
      "# ----------------------------------------------------------\n",
      "#   Problem Information\n",
      "# ----------------------------------------------------------\n",
      "Problem: \n",
      "- Name: unknown\n",
      "  Lower bound: 1705.0\n",
      "  Upper bound: 1705.0\n",
      "  Number of objectives: 1\n",
      "  Number of constraints: 8\n",
      "  Number of variables: 12\n",
      "  Number of nonzeros: 24\n",
      "  Sense: minimize\n",
      "# ----------------------------------------------------------\n",
      "#   Solver Information\n",
      "# ----------------------------------------------------------\n",
      "Solver: \n",
      "- Status: ok\n",
      "  Termination condition: optimal\n",
      "  Statistics: \n",
      "    Branch and bound: \n",
      "      Number of bounded subproblems: 0\n",
      "      Number of created subproblems: 0\n",
      "  Error rc: 0\n",
      "  Time: 0.0672609806060791\n",
      "# ----------------------------------------------------------\n",
      "#   Solution Information\n",
      "# ----------------------------------------------------------\n",
      "Solution: \n",
      "- number of solutions: 0\n",
      "  number of solutions displayed: 0\n"
     ]
    }
   ],
   "source": [
    "# Step 0: Membuat sebuah instance model --> instance adalah representasi sebuah objek nyata dari konsep OOP\n",
    "model = ConcreteModel()\n",
    "model.dual = Suffix(direction=Suffix.IMPORT)\n",
    "# Manual ttg Suffix : \n",
    "# https://pyomo.readthedocs.io/en/stable/pyomo_modeling_components/Suffixes.html#importing-suffix-data\n",
    "# dual adalah nama tambahan fungsi yang diberikan oleh solver, tidak semua solver mengakomodir\n",
    "\n",
    "# Step 1: Define index sets\n",
    "CUS = list(Demand.keys())\n",
    "SRC = list(Supply.keys())\n",
    "\n",
    "# Step 2: Define the decision, variabel keputusan \n",
    "model.x = Var(CUS, SRC, domain = NonNegativeReals)\n",
    "\n",
    "# Step 3: Define Objective\n",
    "@model.Objective(sense=minimize)\n",
    "def cost(m):\n",
    "    return sum([T[c,s]*model.x[c,s] for c in CUS for s in SRC]) \n",
    "#perhatikan for c in CUS dst dan lihat model sigma pada rumusan matematik\n",
    "\n",
    "# Step 4: Constraints\n",
    "# alokasi suplai tidak melebihi kapasitas sumber\n",
    "@model.Constraint(SRC)\n",
    "def src(m, s):\n",
    "    return sum([model.x[c,s] for c in CUS]) <= Supply[s]\n",
    "\n",
    "# Demand setiap titik terpenuhi\n",
    "@model.Constraint(CUS)\n",
    "def dmd(m, c):\n",
    "    return sum([model.x[c,s] for s in SRC]) == Demand[c]\n",
    "    \n",
    "results = SolverFactory('glpk').solve(model)\n",
    "results.write()"
   ]
  },
  {
   "cell_type": "markdown",
   "metadata": {
    "colab_type": "text",
    "id": "zPozph3lmaBc",
    "pycharm": {}
   },
   "source": [
    "## Solution"
   ]
  },
  {
   "cell_type": "code",
   "execution_count": 4,
   "metadata": {},
   "outputs": [
    {
     "name": "stdout",
     "output_type": "stream",
     "text": [
      "x : Size=12, Index=x_index\n",
      "    Key            : Lower : Value : Upper : Fixed : Stale : Domain\n",
      "    ('Ams', 'Arn') :     0 :   0.0 :  None : False : False : NonNegativeReals\n",
      "    ('Ams', 'Gou') :     0 : 250.0 :  None : False : False : NonNegativeReals\n",
      "    ('Ber', 'Arn') :     0 : 175.0 :  None : False : False : NonNegativeReals\n",
      "    ('Ber', 'Gou') :     0 :   0.0 :  None : False : False : NonNegativeReals\n",
      "    ('Hag', 'Arn') :     0 :   0.0 :  None : False : False : NonNegativeReals\n",
      "    ('Hag', 'Gou') :     0 : 200.0 :  None : False : False : NonNegativeReals\n",
      "    ('Lon', 'Arn') :     0 :   0.0 :  None : False : False : NonNegativeReals\n",
      "    ('Lon', 'Gou') :     0 : 125.0 :  None : False : False : NonNegativeReals\n",
      "    ('Maa', 'Arn') :     0 : 225.0 :  None : False : False : NonNegativeReals\n",
      "    ('Maa', 'Gou') :     0 :   0.0 :  None : False : False : NonNegativeReals\n",
      "    ('Utr', 'Arn') :     0 : 200.0 :  None : False : False : NonNegativeReals\n",
      "    ('Utr', 'Gou') :     0 :  25.0 :  None : False : False : NonNegativeReals\n"
     ]
    }
   ],
   "source": [
    "model.x.display()"
   ]
  },
  {
   "cell_type": "code",
   "execution_count": 5,
   "metadata": {
    "colab": {
     "base_uri": "https://localhost:8080/",
     "height": 221
    },
    "colab_type": "code",
    "executionInfo": {
     "elapsed": 7308,
     "status": "ok",
     "timestamp": 1555699291818,
     "user": {
      "displayName": "Jeffrey Kantor",
      "photoUrl": "https://lh5.googleusercontent.com/-8zK5aAW5RMQ/AAAAAAAAAAI/AAAAAAAAKB0/kssUQyz8DTQ/s64/photo.jpg",
      "userId": "09038942003589296665"
     },
     "user_tz": 240
    },
    "id": "c9oQxQsxmaBe",
    "outputId": "be89d8bd-d1f7-40b8-be40-84d37e401dbf",
    "pycharm": {}
   },
   "outputs": [
    {
     "name": "stdout",
     "output_type": "stream",
     "text": [
      "Lon Arn 0.0\n",
      "Lon Gou 125.0\n",
      "Ber Arn 175.0\n",
      "Ber Gou 0.0\n",
      "Maa Arn 225.0\n",
      "Maa Gou 0.0\n",
      "Ams Arn 0.0\n",
      "Ams Gou 250.0\n",
      "Utr Arn 200.0\n",
      "Utr Gou 25.0\n",
      "Hag Arn 0.0\n",
      "Hag Gou 200.0\n"
     ]
    }
   ],
   "source": [
    "for c in CUS:\n",
    "    for s in SRC:\n",
    "        print(c, s, model.x[c,s]())"
   ]
  },
  {
   "cell_type": "code",
   "execution_count": 6,
   "metadata": {
    "colab": {
     "base_uri": "https://localhost:8080/",
     "height": 187
    },
    "colab_type": "code",
    "executionInfo": {
     "elapsed": 7289,
     "status": "ok",
     "timestamp": 1555699291819,
     "user": {
      "displayName": "Jeffrey Kantor",
      "photoUrl": "https://lh5.googleusercontent.com/-8zK5aAW5RMQ/AAAAAAAAAAI/AAAAAAAAKB0/kssUQyz8DTQ/s64/photo.jpg",
      "userId": "09038942003589296665"
     },
     "user_tz": 240
    },
    "id": "dfLXRj7umaBz",
    "outputId": "e40c0ffd-ce4b-43c0-f926-c211aa0b0245",
    "pycharm": {}
   },
   "outputs": [
    {
     "name": "stdout",
     "output_type": "stream",
     "text": [
      "Total Biaya Pengiriman =  1705.0\n",
      "\n",
      "Tabel Kuantitas Pengiriman:\n",
      "Pengiriman dari  Arn  ke  Ber : 175.0\n",
      "Pengiriman dari  Arn  ke  Maa : 225.0\n",
      "Pengiriman dari  Arn  ke  Utr : 200.0\n",
      "Pengiriman dari  Gou  ke  Lon : 125.0\n",
      "Pengiriman dari  Gou  ke  Ams : 250.0\n",
      "Pengiriman dari  Gou  ke  Utr : 25.0\n",
      "Pengiriman dari  Gou  ke  Hag : 200.0\n"
     ]
    }
   ],
   "source": [
    "if 'ok' == str(results.Solver.status):\n",
    "    print(\"Total Biaya Pengiriman = \", model.cost())\n",
    "    print(\"\\nTabel Kuantitas Pengiriman:\")\n",
    "    for s in SRC:\n",
    "        for c in CUS:\n",
    "            if model.x[c,s]() > 0:\n",
    "                print(\"Pengiriman dari \", s,\" ke \", c, \":\", model.x[c,s]())\n",
    "else:\n",
    "    print(\"No Valid Solution Found\")"
   ]
  },
  {
   "attachments": {},
   "cell_type": "markdown",
   "metadata": {
    "colab_type": "text",
    "id": "nkc1GK46maB3",
    "pycharm": {}
   },
   "source": [
    "Selain Utrecht, pelanggan lain hanya dilayani oleh satu pemasok.\n",
    "\n",
    "![TransportNet_soln.png](images/TransportNet_soln.png)\n"
   ]
  },
  {
   "cell_type": "markdown",
   "metadata": {
    "colab_type": "text",
    "id": "wCmJ6UACmaB4",
    "pycharm": {}
   },
   "source": [
    "## Sensitivity analysis"
   ]
  },
  {
   "attachments": {},
   "cell_type": "markdown",
   "metadata": {
    "pycharm": {
     "metadata": false,
     "name": "#%% md\n"
    }
   },
   "source": [
    "### Analisis pada Sumber Pasokan"
   ]
  },
  {
   "cell_type": "code",
   "execution_count": 7,
   "metadata": {
    "colab": {
     "base_uri": "https://localhost:8080/",
     "height": 102
    },
    "colab_type": "code",
    "executionInfo": {
     "elapsed": 7271,
     "status": "ok",
     "timestamp": 1555699291820,
     "user": {
      "displayName": "Jeffrey Kantor",
      "photoUrl": "https://lh5.googleusercontent.com/-8zK5aAW5RMQ/AAAAAAAAAAI/AAAAAAAAKB0/kssUQyz8DTQ/s64/photo.jpg",
      "userId": "09038942003589296665"
     },
     "user_tz": 240
    },
    "id": "eq7tLE9FmaB6",
    "outputId": "49ad2d17-0c77-4d08-d19d-cb16cab82e9f",
    "pycharm": {}
   },
   "outputs": [
    {
     "name": "stdout",
     "output_type": "stream",
     "text": [
      "Source      Capacity   Shipped    Margin\n",
      "Arn            600.0     600.0   -0.2000\n",
      "Gou            650.0     600.0    0.0000\n"
     ]
    }
   ],
   "source": [
    "if 'ok' == str(results.Solver.status):\n",
    "    print(\"Source      Capacity   Shipped    Margin\")\n",
    "    for s in SRC:\n",
    "        print(f\"{s:10s}{Supply[s]:10.1f}{model.src[s]():10.1f}{model.dual[model.src[s]]:10.4f}\")\n",
    "else:\n",
    "    print(\"No Valid Solution Found\")"
   ]
  },
  {
   "attachments": {},
   "cell_type": "markdown",
   "metadata": {
    "colab_type": "text",
    "id": "ZIlMOpDLmaB9",
    "pycharm": {}
   },
   "source": [
    "Nilai 'Margin' menginformasikan berapa total biaya yang akan ditingkatkan untuk setiap kenaikan satu ton pasokan yang tersedia dari masing-masing sumber. Perhitungan optimasi mengatakan bahwa hanya 650 ton dari 700 yang tersedia dari Gouda yang harus digunakan untuk solusi biaya minimum. Kapasitas Gouda bisa diturunkan dengan Nilai margin Gouda adalah 0.\n",
    "\n",
    "Sumber di Arnhem berbeda. Pertama, semua 550 ton yang tersedia telah digunakan. Kedua, dari nilai margin dapat dilihat bahwa **total biaya transportasi akan berkurang sebesar 0,2 Euro** untuk setiap ton pasokan tambahan.\n",
    "\n",
    "Informasi strategis bagi manajemen, ada kelebihan pasokan yang tersedia di Gouda yang seharusnya, jika memungkinkan, dipindah ke Arnhem."
   ]
  },
  {
   "attachments": {},
   "cell_type": "markdown",
   "metadata": {
    "colab_type": "text",
    "id": "e9EJqVwSmaB-",
    "pycharm": {}
   },
   "source": [
    "### Analysis pada Customer"
   ]
  },
  {
   "cell_type": "code",
   "execution_count": 8,
   "metadata": {
    "colab": {
     "base_uri": "https://localhost:8080/",
     "height": 170
    },
    "colab_type": "code",
    "executionInfo": {
     "elapsed": 7262,
     "status": "ok",
     "timestamp": 1555699291821,
     "user": {
      "displayName": "Jeffrey Kantor",
      "photoUrl": "https://lh5.googleusercontent.com/-8zK5aAW5RMQ/AAAAAAAAAAI/AAAAAAAAKB0/kssUQyz8DTQ/s64/photo.jpg",
      "userId": "09038942003589296665"
     },
     "user_tz": 240
    },
    "id": "EQLauqn0maB_",
    "outputId": "0c5e18a0-e9f0-4276-89b7-813f7de40f73",
    "pycharm": {}
   },
   "outputs": [
    {
     "name": "stdout",
     "output_type": "stream",
     "text": [
      "Customer      Demand   Shipped    Margin\n",
      "Lon            125.0     125.0    2.5000\n",
      "Ber            175.0     175.0    2.7000\n",
      "Maa            225.0     225.0    1.8000\n",
      "Ams            250.0     250.0    1.0000\n",
      "Utr            225.0     225.0    1.0000\n",
      "Hag            200.0     200.0    0.8000\n"
     ]
    }
   ],
   "source": [
    "if 'ok' == str(results.Solver.status):    \n",
    "    print(\"Customer      Demand   Shipped    Margin\")\n",
    "    for c in CUS:\n",
    "        print(f\"{c:10s}{Demand[c]:10.1f}{model.dmd[c]():10.1f}{model.dual[model.dmd[c]]:10.4f}\")\n",
    "else:\n",
    "    print(\"No Valid Solution Found\")"
   ]
  },
  {
   "attachments": {},
   "cell_type": "markdown",
   "metadata": {
    "colab_type": "text",
    "id": "kK5peVBmmaCC",
    "pycharm": {}
   },
   "source": [
    "Perhatikan pada kolom demand, semua demand dapat dipenuhi oleh solusi.\n",
    "\n",
    "**Nilai Margin** pada batasan-batasan mengindikasikan *berapa besar total biaya ransportasi akan bertambah jika ada **penambahan** demand per ton*. Sebagai contoh, penambahan 1 ton demand di Berlin akan meningkatkan biaya sebesar 2.7 Euros. Penambahan biaya tersebut **lebih besar** dari biaya awal untuk pengiriman ke  Berlin sebesar 2.5 Euros per ton.  \n",
    "\n",
    "Perhatikan ilustrasi gambar berikut ini.\n",
    "\n",
    "![TransportNet_sens.png](images/TransportNet_sens.png)\n",
    "\n",
    "\n",
    "* Jika permintaan Berlin meningkat dari 175 menjadi 176 tons, maka total biaya meningkat dari 437.5 menjadi 440.0, atau terjadi peningkatan biaya sebesar 2.5 Euros.\n",
    "* Oleh karena pemasok Arnhem sudah beroperasi dengan kapasitas penuh, peningkatan pengiriman dari Arnhem ke Berlin akan mengurangi pengiriman dari Arhhem ke Utrecht dari 150 menjadi 149 ton sehingga terjadi pengurangan biaya kirim sebesar 120.0 menjadi 119.2, atau penurunan sebesar 0.8 Euros.\n",
    "* Kemudian untuk memenuhi kebutuhan di Utrecht, pengiriman dari Gouda ke Utrecht harus ditambah dari 75 menjadi 76 ton, yang menambah biaya kirim sebesar 1.0 Euros.\n",
    "* Dengan demikian, efek penambahan permintaan 1 ton pada Berlin akan menambah margin biaya kirim sebesar **2.5 - 0.8 + 1.0 = 2.7 Euros**.\n",
    "\n",
    "Kesimpulan penting yang dapat diperoleh bahwa solusi optimal yang diberikan di atas pada kondisi normal dengan total permintaan yang telah diketahui (deterministik) sebelumnya. Jika ada *ripple effect* pada rantai pasok, maka solusi optimal dapat berubah sesuai hasil analisis sensitivitas di atas."
   ]
  },
  {
   "attachments": {},
   "cell_type": "markdown",
   "metadata": {
    "colab_type": "text",
    "id": "Y1uwO5damaCD",
    "pycharm": {}
   },
   "source": [
    "## Latihan\n",
    "\n",
    "1. Pindahkan 50 ton kapasitas pasokan dari Gouda ke Arnhem, dan ulangi analisis sensitivitas. Bagaimana hasilnya? Dalam prakteknya, apakah Anda akan merekomendasikan solusi ini, ataukah Anda memiliki pendapat lain?\n",
    "2. Apa rekoemndasi bisnis lain yang bisa Anda berikan?"
   ]
  },
  {
   "cell_type": "code",
   "execution_count": 9,
   "metadata": {
    "colab": {},
    "colab_type": "code",
    "id": "Ku2mzo0CmaCD",
    "pycharm": {}
   },
   "outputs": [],
   "source": [
    "# Ubah kapasitas di Arn (bertambah 50), dan Gouda dikurangi\n",
    "Supply = {\n",
    "   'Arn': 650,        # Arnhem\n",
    "   'Gou': 600         # Gouda\n",
    "}\n"
   ]
  },
  {
   "cell_type": "code",
   "execution_count": 14,
   "metadata": {},
   "outputs": [
    {
     "name": "stdout",
     "output_type": "stream",
     "text": [
      "# ==========================================================\n",
      "# = Solver Results                                         =\n",
      "# ==========================================================\n",
      "# ----------------------------------------------------------\n",
      "#   Problem Information\n",
      "# ----------------------------------------------------------\n",
      "Problem: \n",
      "- Name: unknown\n",
      "  Lower bound: 1700.0\n",
      "  Upper bound: 1700.0\n",
      "  Number of objectives: 1\n",
      "  Number of constraints: 8\n",
      "  Number of variables: 12\n",
      "  Number of nonzeros: 24\n",
      "  Sense: minimize\n",
      "# ----------------------------------------------------------\n",
      "#   Solver Information\n",
      "# ----------------------------------------------------------\n",
      "Solver: \n",
      "- Status: ok\n",
      "  Termination condition: optimal\n",
      "  Statistics: \n",
      "    Branch and bound: \n",
      "      Number of bounded subproblems: 0\n",
      "      Number of created subproblems: 0\n",
      "  Error rc: 0\n",
      "  Time: 0.0545656681060791\n",
      "# ----------------------------------------------------------\n",
      "#   Solution Information\n",
      "# ----------------------------------------------------------\n",
      "Solution: \n",
      "- number of solutions: 0\n",
      "  number of solutions displayed: 0\n"
     ]
    }
   ],
   "source": [
    "# Step 0: Create an instance of the model\n",
    "model = ConcreteModel()\n",
    "model.dual = Suffix(direction=Suffix.IMPORT)\n",
    "# dual adalah penamaan fungsi yang diberikan untuk model yg dibuat\n",
    "\n",
    "# Step 1: Define index sets\n",
    "CUS = list(Demand.keys())\n",
    "SRC = list(Supply.keys())\n",
    "\n",
    "# Step 2: Define the decision, variabel keputusan \n",
    "model.x = Var(CUS, SRC, domain = NonNegativeReals)\n",
    "\n",
    "# Step 3: Define Objective\n",
    "@model.Objective(sense=minimize)\n",
    "def cost(m):\n",
    "    return sum([T[c,s]*model.x[c,s] for c in CUS for s in SRC])\n",
    "\n",
    "# Step 4: Constraints\n",
    "# alokasi suplai tidak melebihi kapasitas sumber\n",
    "@model.Constraint(SRC)\n",
    "def src(m, s):\n",
    "    return sum([model.x[c,s] for c in CUS]) <= Supply[s]\n",
    "\n",
    "# Demand setiap titik terpenuhi\n",
    "@model.Constraint(CUS)\n",
    "def dmd(m, c):\n",
    "    return sum([model.x[c,s] for s in SRC]) == Demand[c]\n",
    "    \n",
    "results = SolverFactory('glpk').solve(model)\n",
    "results.write()"
   ]
  },
  {
   "cell_type": "code",
   "execution_count": 15,
   "metadata": {},
   "outputs": [
    {
     "name": "stdout",
     "output_type": "stream",
     "text": [
      "Total Biaya Pengiriman =  1700.0\n",
      "\n",
      "Tabel Pengiriman:\n",
      "Pengiriman dari  Arn  ke  Ber : 175.0\n",
      "Pengiriman dari  Arn  ke  Maa : 225.0\n",
      "Pengiriman dari  Arn  ke  Utr : 225.0\n",
      "Pengiriman dari  Gou  ke  Lon : 125.0\n",
      "Pengiriman dari  Gou  ke  Ams : 250.0\n",
      "Pengiriman dari  Gou  ke  Hag : 200.0\n"
     ]
    }
   ],
   "source": [
    "if 'ok' == str(results.Solver.status):\n",
    "    print(\"Total Biaya Pengiriman = \", model.cost())\n",
    "    print(\"\\nTabel Pengiriman:\")\n",
    "    for s in SRC:\n",
    "        for c in CUS:\n",
    "            if model.x[c,s]() > 0:\n",
    "                print(\"Pengiriman dari \", s,\" ke \", c, \":\", model.x[c,s]())\n",
    "else:\n",
    "    print(\"No Valid Solution Found\")"
   ]
  },
  {
   "cell_type": "code",
   "execution_count": 16,
   "metadata": {},
   "outputs": [
    {
     "name": "stdout",
     "output_type": "stream",
     "text": [
      "Source      Capacity   Shipped    Margin\n",
      "Arn            650.0     625.0    0.0000\n",
      "Gou            600.0     575.0    0.0000\n"
     ]
    }
   ],
   "source": [
    "# Analisis berbasiskan sumber\n",
    "if 'ok' == str(results.Solver.status):\n",
    "    print(\"Source      Capacity   Shipped    Margin\")\n",
    "    for s in SRC:\n",
    "        print(f\"{s:10s}{Supply[s]:10.1f}{model.src[s]():10.1f}{model.dual[model.src[s]]:10.4f}\")\n",
    "else:\n",
    "    print(\"No Valid Solution Found\")"
   ]
  },
  {
   "attachments": {},
   "cell_type": "markdown",
   "metadata": {},
   "source": [
    "Maksimum shipped dari Arn sebenarnya 650, dan jika bertambahpun tidak akan menambah biaya karena kebuthan supply dari Arn hanya sampai 625 ton saja.\n",
    "\n",
    "Demikian juga dengan Goudo."
   ]
  },
  {
   "cell_type": "code",
   "execution_count": 17,
   "metadata": {},
   "outputs": [
    {
     "name": "stdout",
     "output_type": "stream",
     "text": [
      "Customer      Demand   Shipped    Margin\n",
      "Lon            125.0     125.0    2.5000\n",
      "Ber            175.0     175.0    2.5000\n",
      "Maa            225.0     225.0    1.6000\n",
      "Ams            250.0     250.0    1.0000\n",
      "Utr            225.0     225.0    0.8000\n",
      "Hag            200.0     200.0    0.8000\n"
     ]
    }
   ],
   "source": [
    "# Analisis sensitivitas dari konsumen\n",
    "if 'ok' == str(results.Solver.status):    \n",
    "    print(\"Customer      Demand   Shipped    Margin\")\n",
    "    for c in CUS:\n",
    "        print(f\"{c:10s}{Demand[c]:10.1f}{model.dmd[c]():10.1f}{model.dual[model.dmd[c]]:10.4f}\")\n",
    "else:\n",
    "    print(\"No Valid Solution Found\")"
   ]
  },
  {
   "attachments": {},
   "cell_type": "markdown",
   "metadata": {},
   "source": [
    "Berlin dan London memiliki biaya terbesar yang sama jika terjadi penambahan 1 ton demand"
   ]
  }
 ],
 "metadata": {
  "colab": {
   "collapsed_sections": [],
   "name": "03.01-Transportation-Networks.ipynb",
   "provenance": [],
   "version": "0.3.2"
  },
  "kernelspec": {
   "display_name": "pypy3.9",
   "language": "python",
   "name": "python3"
  },
  "language_info": {
   "codemirror_mode": {
    "name": "ipython",
    "version": 3
   },
   "file_extension": ".py",
   "mimetype": "text/x-python",
   "name": "python",
   "nbconvert_exporter": "python",
   "pygments_lexer": "ipython3",
   "version": "3.9.10"
  }
 },
 "nbformat": 4,
 "nbformat_minor": 4
}

{
 "cells": [
  {
   "attachments": {},
   "cell_type": "markdown",
   "metadata": {},
   "source": [
    "### Maksimasi profit untuk Produksi A dan B"
   ]
  },
  {
   "attachments": {},
   "cell_type": "markdown",
   "metadata": {},
   "source": [
    "Profit (A) = &euro;(180 -90)A = &euro;90 \\\n",
    "Profit (B) = &euro;(150 -90)B = &euro;60 \\\n",
    "Demand A = 3 unit/day. \\\n",
    "Demand B = 4 unit/day. \\\n",
    "\\\n",
    "Kapasitas produksi 8 jam/day, dengan biaya produksi &euro;20/jam. \\\n",
    "Produksi A membutuhkan 2 jam/unit. \\\n",
    "Produksi B membutuhkan 1 jam/unit. \\\n",
    "\\\n",
    "Biaya material A = &euro;50/unit.\\\n",
    "Biaya material B = &euro;70/unit.\n",
    "\n",
    "Total cost per unit A dan B di atas diperoleh dari: \\\n",
    "cA = 50 + 2x &euro;20 = &euro;90 \\\n",
    "cB = 70 + 1x &euro;20 = &euro;90 \n",
    "\n",
    "\n"
   ]
  },
  {
   "attachments": {},
   "cell_type": "markdown",
   "metadata": {},
   "source": [
    "#### Rumusan matematis\n",
    "$$ Max Profit = 90A + 60B $$\n",
    "Constrain\n",
    "$$ A <= 3 $$\n",
    "$$ B <= 4 $$\n",
    "$$ 2A + B <= 8  $$\n",
    "$$ A, B >= 0 $$"
   ]
  },
  {
   "attachments": {},
   "cell_type": "markdown",
   "metadata": {},
   "source": [
    "### Definisi counterintuitive outcome\n",
    "Luaran yang sebenarnya dapat diduga kejadiannya (bukan hal yang misterius, atau tidak terduga), dan dapat dijelaskan dengan melihat sistem secara komprehensif."
   ]
  },
  {
   "cell_type": "code",
   "execution_count": 1,
   "metadata": {},
   "outputs": [],
   "source": [
    "from pyomo.environ import *\n",
    "# import pyomo.environ as pyo\n"
   ]
  },
  {
   "cell_type": "code",
   "execution_count": 3,
   "metadata": {},
   "outputs": [
    {
     "name": "stdout",
     "output_type": "stream",
     "text": [
      "# ==========================================================\n",
      "# = Solver Results                                         =\n",
      "# ==========================================================\n",
      "# ----------------------------------------------------------\n",
      "#   Problem Information\n",
      "# ----------------------------------------------------------\n",
      "Problem: \n",
      "- Name: unknown\n",
      "  Lower bound: -420.0\n",
      "  Upper bound: -420.0\n",
      "  Number of objectives: 1\n",
      "  Number of constraints: 1\n",
      "  Number of variables: 2\n",
      "  Number of binary variables: 0\n",
      "  Number of integer variables: 2\n",
      "  Number of nonzeros: 2\n",
      "  Sense: maximize\n",
      "# ----------------------------------------------------------\n",
      "#   Solver Information\n",
      "# ----------------------------------------------------------\n",
      "Solver: \n",
      "- Status: ok\n",
      "  User time: -1.0\n",
      "  System time: 0.01\n",
      "  Wallclock time: 0.01\n",
      "  Termination condition: optimal\n",
      "  Termination message: Model was solved to optimality (subject to tolerances), and an optimal solution is available.\n",
      "  Statistics: \n",
      "    Branch and bound: \n",
      "      Number of bounded subproblems: 0\n",
      "      Number of created subproblems: 0\n",
      "    Black box: \n",
      "      Number of iterations: 0\n",
      "  Error rc: 0\n",
      "  Time: 0.1995699405670166\n",
      "# ----------------------------------------------------------\n",
      "#   Solution Information\n",
      "# ----------------------------------------------------------\n",
      "Solution: \n",
      "- number of solutions: 0\n",
      "  number of solutions displayed: 0\n"
     ]
    }
   ],
   "source": [
    "model = ConcreteModel()\n",
    "\n",
    "# Deklarasi variabel keputusan\n",
    "model.A = Var(domain=NonNegativeIntegers)\n",
    "model.B = Var(domain=NonNegativeIntegers)\n",
    "\n",
    "# Deklarasi fungsi tujuan\n",
    "model.profit = Objective(\n",
    "    expr = 90*model.A + 60*model.B,\n",
    "    sense = maximize\n",
    "    )\n",
    "# Deklarasi pembatas (constraints)\n",
    "model.demandA = Constraint(expr = model.A <= 3) \n",
    "model.demandB = Constraint(expr = model.B <= 4)\n",
    "model.hourCapacity = Constraint(expr = 2*model.A + model.B <= 8)\n",
    "# Pencarian solusi (solve)\n",
    "# Mode penulisan 1\n",
    "# SolverFactory('cbc').solve(model).write()\n",
    "# Mode penulisan 2\n",
    "objSolver = SolverFactory('cbc')\n",
    "Solver_cbc = objSolver.solve(model)\n",
    "Solver_cbc.write()\n",
    "# hasil_cbc.pprint\n"
   ]
  },
  {
   "cell_type": "code",
   "execution_count": 4,
   "metadata": {},
   "outputs": [
    {
     "name": "stdout",
     "output_type": "stream",
     "text": [
      "Model unknown\n",
      "\n",
      "  Variables:\n",
      "    A : Size=1, Index=None\n",
      "        Key  : Lower : Value : Upper : Fixed : Stale : Domain\n",
      "        None :     0 :   2.0 :  None : False : False : NonNegativeIntegers\n",
      "    B : Size=1, Index=None\n",
      "        Key  : Lower : Value : Upper : Fixed : Stale : Domain\n",
      "        None :     0 :   4.0 :  None : False : False : NonNegativeIntegers\n",
      "\n",
      "  Objectives:\n",
      "    profit : Size=1, Index=None, Active=True\n",
      "        Key  : Active : Value\n",
      "        None :   True : 420.0\n",
      "\n",
      "  Constraints:\n",
      "    demandA : Size=1\n",
      "        Key  : Lower : Body : Upper\n",
      "        None :  None :  2.0 :   3.0\n",
      "    demandB : Size=1\n",
      "        Key  : Lower : Body : Upper\n",
      "        None :  None :  4.0 :   4.0\n",
      "    hourCapacity : Size=1\n",
      "        Key  : Lower : Body : Upper\n",
      "        None :  None :  8.0 :   8.0\n",
      "profit : Size=1, Index=None, Active=True\n",
      "    Key  : Active : Value\n",
      "    None :   True : 420.0\n",
      "A : Size=1, Index=None\n",
      "    Key  : Lower : Value : Upper : Fixed : Stale : Domain\n",
      "    None :     0 :   2.0 :  None : False : False : NonNegativeIntegers\n",
      "B : Size=1, Index=None\n",
      "    Key  : Lower : Value : Upper : Fixed : Stale : Domain\n",
      "    None :     0 :   4.0 :  None : False : False : NonNegativeIntegers\n"
     ]
    }
   ],
   "source": [
    "# Menampilkan hasil-hasil keseluruhan\n",
    "model.display()\n",
    "# Menampilkan tiap bagian\n",
    "model.profit.display()\n",
    "model.A.display()\n",
    "model.B.display()"
   ]
  },
  {
   "cell_type": "code",
   "execution_count": 1,
   "metadata": {},
   "outputs": [
    {
     "ename": "NameError",
     "evalue": "name 'model' is not defined",
     "output_type": "error",
     "traceback": [
      "\u001b[1;31m---------------------------------------------------------------------------\u001b[0m",
      "\u001b[1;31mNameError\u001b[0m                                 Traceback (most recent call last)",
      "Cell \u001b[1;32mIn[1], line 2\u001b[0m\n\u001b[0;32m      1\u001b[0m \u001b[39m# display solution\u001b[39;00m\n\u001b[1;32m----> 2\u001b[0m \u001b[39mprint\u001b[39m(\u001b[39mf\u001b[39m\u001b[39m\"\u001b[39m\u001b[39mProfit = \u001b[39m\u001b[39m{\u001b[39;00mmodel\u001b[39m.\u001b[39mprofit()\u001b[39m}\u001b[39;00m\u001b[39m\"\u001b[39m)\n\u001b[0;32m      3\u001b[0m \u001b[39mprint\u001b[39m(\u001b[39mf\u001b[39m\u001b[39m\"\u001b[39m\u001b[39mUnits of A = \u001b[39m\u001b[39m{\u001b[39;00mmodel\u001b[39m.\u001b[39mA()\u001b[39m}\u001b[39;00m\u001b[39m\"\u001b[39m)\n\u001b[0;32m      4\u001b[0m \u001b[39mprint\u001b[39m(\u001b[39mf\u001b[39m\u001b[39m\"\u001b[39m\u001b[39mUnits of B = \u001b[39m\u001b[39m{\u001b[39;00mmodel\u001b[39m.\u001b[39mB()\u001b[39m}\u001b[39;00m\u001b[39m\"\u001b[39m)\n",
      "\u001b[1;31mNameError\u001b[0m: name 'model' is not defined"
     ]
    }
   ],
   "source": [
    "# display solution\n",
    "print(f\"Profit = {model.profit()}\")\n",
    "print(f\"Units of A = {model.A()}\")\n",
    "print(f\"Units of B = {model.B()}\")"
   ]
  },
  {
   "attachments": {},
   "cell_type": "markdown",
   "metadata": {},
   "source": [
    "#### Membuat Grafik Matplotlib"
   ]
  },
  {
   "cell_type": "code",
   "execution_count": 1,
   "metadata": {},
   "outputs": [
    {
     "data": {
      "text/plain": [
       "Text(3, 6, 'B maks 4, A = 2')"
      ]
     },
     "execution_count": 1,
     "metadata": {},
     "output_type": "execute_result"
    },
    {
     "data": {
      "image/png": "[encoded data removed]",
      "text/plain": [
       "<Figure size 400x400 with 1 Axes>"
      ]
     },
     "metadata": {},
     "output_type": "display_data"
    }
   ],
   "source": [
    "import matplotlib.pyplot as plt\n",
    "import numpy as np\n",
    "# import sys\n",
    "# import os.path\n",
    "\n",
    "fig, ax = plt.subplots(1, 1, figsize=(4, 4))\n",
    "ax.set_aspect('equal')\n",
    "ax.axis([0, 10, 0, 10])\n",
    "ax.set_xlabel('Produksi A ')\n",
    "ax.set_ylabel('Produksi B ')\n",
    "\n",
    "# Garis Batasan demand A\n",
    "ax.plot([3, 3], [0, 10], 'g', lw=1) # untuk setiap nilai x dari 3 s.d. 3, y bernilai 0 s.d. 10\n",
    "# Garis Batasan demand B\n",
    "ax.plot([0, 10], [4, 4], 'b', lw=1) # untuk setiap nilai x dari 0 s.d. 10, y selalu bernilai 4\n",
    "\n",
    "# Garis Batasan jam kerja per hari\n",
    "x = np.array([0, 10])\n",
    "ax.plot(x, 8 - 2*x, 'r', lw=1)  # untuk setiap nilai x, y = 8 -2x\n",
    "\n",
    "ax.legend(['Batasan Produksi A', 'Batasan Produksi B', 'Batasan Jam Kerja'])\n",
    "# Menggunakan plot fill_between step (dari nilai a s.d. b)\n",
    "ax.fill_between([0, 3], [10, 10], color='g', alpha=0.15) # \n",
    "ax.fill_between([0, 10], [4, 4], color='b', alpha=0.15)\n",
    "ax.fill_between([0, 4],[8, 0], color='r', alpha=0.15)  # ketika x=0, y=8 dst berwarna red dgn alpha 0,15\n",
    "\n",
    "# mendefiniskan ukuran garis berpanah    \n",
    "ukuranpanah = dict(shrink=.1, width=0.1, headwidth=3)\n",
    "\n",
    "# Alternatif Solusi\n",
    "ax.plot(3, 2, 'b.', ms=10) # pada titik (3,2), warna biru, ukuran titik 10 point\n",
    "ax.annotate('A maks 3, B = 2', xy=(3, 2), xytext=(5, 3), arrowprops=ukuranpanah)\n",
    "\n",
    "ax.plot(2, 4, 'b.', ms=10)\n",
    "ax.annotate('B maks 4, A = 2', xy=(2, 4), xytext=(3, 6), arrowprops=ukuranpanah)\n",
    "\n",
    "# fname = 'Pemod01.png'\n",
    "# fname = os.path.join('figures', fname) if os.path.exists('figures') else fname\n",
    "# plt.savefig(fname, bbox_inches='tight')"
   ]
  }
 ],
 "metadata": {
  "kernelspec": {
   "display_name": "pypy3.9",
   "language": "python",
   "name": "python3"
  },
  "language_info": {
   "codemirror_mode": {
    "name": "ipython",
    "version": 3
   },
   "file_extension": ".py",
   "mimetype": "text/x-python",
   "name": "python",
   "nbconvert_exporter": "python",
   "pygments_lexer": "ipython3",
   "version": "3.9.10"
  },
  "orig_nbformat": 4
 },
 "nbformat": 4,
 "nbformat_minor": 2
}

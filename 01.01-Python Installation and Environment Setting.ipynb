{
 "cells": [
  {
   "attachments": {},
   "cell_type": "markdown",
   "metadata": {},
   "source": [
    "## Instalasi Python dan Environment\n",
    "\n",
    "#### Install Python\n",
    "Tutorial ini menggunakan Python 3.9, tidak menggunakan paket Conda atau MiniConda. \n",
    "Pastikan python dapat diakses dari semua path. Gunakan command line (terminal)  \n",
    ">> python --version\n",
    "\n",
    "#### Install Pip\n",
    "Instalasi ini diperlukan jika pip belum di install. Cek terlebih dahulu.\n",
    ">> pip --version\n",
    "Download get-pip.py (https://bootstrap.pypa.io/get-pip.py). \n",
    "\n",
    "Jalankan command prompt atau terminal, di tempat file .py berada\n",
    "\n",
    ">> python get-pip.py\n",
    "\n",
    "Upgrade pip\n",
    ">> py -m pip install --upgrade pip\n",
    "\n",
    "#### Install Library Environtment\n",
    "Instalasi library virtualenv\n",
    ">> pip install virtualenv\n",
    "\n",
    "#### Buat Environment pyomo\n",
    "Gunakan terminal, dan posisikan pada folder ditempat akan disimpan environment program python dan pyomo\n",
    ">> python -m venv pyomo\n",
    "\n",
    "#### Aktivasi Environment pyomo\n",
    "Gunakan terminal, pada folder environment pyomo, jalankan perintah ini\n",
    ">> Scripts\\activate\n",
    "\n",
    "Lihat pada terminal, tanda environment sudah aktif adalah  di depan lokasi path sudah ada nama environment\n",
    ">> (pyomo)D:\\20_DEV\\pyomo\n",
    "\n",
    "Jika akan melakukan deaktivasi, gunakan perintah\n",
    ">> deactivate\n",
    "\n",
    "#### Library Penting\n",
    "Beberapa library ini penting untuk dicek dan sudah terinstall pada environment yang Anda gunakan.\n",
    "\n",
    "1. pip install numpy\n",
    "2. pip install pandas\n",
    "3. pip install matplotlib\n",
    "4. pip install graphviz\n",
    "5. pip install notebook\n",
    "6. pip install scikit-learn )*\n",
    "7. pip install statsmodels )*\n",
    "\n",
    ")* bisa ditunda\n",
    "\n",
    "Cek apakah library tersebut sudah ada dengan perintah\n",
    "\n",
    ">> pip list"
   ]
  }
 ],
 "metadata": {
  "kernelspec": {
   "display_name": "pypy3.9",
   "language": "python",
   "name": "python3"
  },
  "language_info": {
   "codemirror_mode": {
    "name": "ipython",
    "version": 3
   },
   "file_extension": ".py",
   "mimetype": "text/x-python",
   "name": "python",
   "nbconvert_exporter": "python",
   "pygments_lexer": "ipython3",
   "version": "3.9.10"
  },
  "orig_nbformat": 4
 },
 "nbformat": 4,
 "nbformat_minor": 2
}

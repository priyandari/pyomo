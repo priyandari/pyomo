{
 "cells": [
  {
   "attachments": {},
   "cell_type": "markdown",
   "metadata": {},
   "source": [
    "## Install Pyomo\n",
    "\n",
    ">> pip install pyomo\n",
    "\n",
    "Hasilnya:\n",
    "\n",
    ">> Installing collected packages: ply, pyomo\n",
    "\n",
    ">> Successfully installed ply-3.11 pyomo-6.6.2\n",
    "\n",
    "#### Install Library Solver\n",
    "Tutorial ini, dicontohkan install salah satu solver CBC\n",
    ">> pip install cbcpy\n",
    "\n",
    "Namun penggunaan library tidak direkoemndasikan karena masih precompile. Oleh karena itu disarankan menggunakan solver dalam bentuk .exe. \n",
    "\n",
    "#### Memasang Solver dan Setting Path\n",
    "Selain menggunakan solver dalam bentuk library, bisa juga Anda mendownload solver, dan atur path system environment (windows) menuju lokasi dimana diletakkan file solver\n",
    "\n",
    "Contoh penggunaan solver cbc di dwonload pada link berikut ini \n",
    "\n",
    "https://www.coin-or.org/download/binary/Cbc/Cbc-2.10-win64-msvc16-mdd.zip\n",
    "\n",
    "Extrak dan cari folder **bin** dan pindahkan isi cbc.exe dan clp.exe ke C\\:solver\\cbc-win64\n",
    "\n",
    "Tambahkan path system environtment pada sistem operasi (Windows) agar merujuk ke (1) folder solver tersebut dan ke (2) file cbc.exe \n",
    "\n",
    "#### Tes Pyomo sudah Aktif\n",
    "Buat sebuah file pyomotest.py, isikan file tersebut dengan perintah\n",
    "\n",
    "Kemudian jalankan program file tersebut pada terminal.\n",
    ">> python pyomotest.py"
   ]
  },
  {
   "cell_type": "code",
   "execution_count": 2,
   "metadata": {},
   "outputs": [
    {
     "name": "stdout",
     "output_type": "stream",
     "text": [
      "# ==========================================================\n",
      "# = Solver Results                                         =\n",
      "# ==========================================================\n",
      "# ----------------------------------------------------------\n",
      "#   Problem Information\n",
      "# ----------------------------------------------------------\n",
      "Problem: \n",
      "- Name: unknown\n",
      "  Lower bound: 1.0\n",
      "  Upper bound: 1.0\n",
      "  Number of objectives: 1\n",
      "  Number of constraints: 1\n",
      "  Number of variables: 1\n",
      "  Number of nonzeros: 0\n",
      "  Sense: minimize\n",
      "# ----------------------------------------------------------\n",
      "#   Solver Information\n",
      "# ----------------------------------------------------------\n",
      "Solver: \n",
      "- Status: ok\n",
      "  User time: -1.0\n",
      "  System time: 0.0\n",
      "  Wallclock time: 0.0\n",
      "  Termination condition: optimal\n",
      "  Termination message: Model was solved to optimality (subject to tolerances), and an optimal solution is available.\n",
      "  Statistics: \n",
      "    Branch and bound: \n",
      "      Number of bounded subproblems: None\n",
      "      Number of created subproblems: None\n",
      "    Black box: \n",
      "      Number of iterations: 0\n",
      "  Error rc: 0\n",
      "  Time: 0.18871784210205078\n",
      "# ----------------------------------------------------------\n",
      "#   Solution Information\n",
      "# ----------------------------------------------------------\n",
      "Solution: \n",
      "- number of solutions: 0\n",
      "  number of solutions displayed: 0\n",
      "165\n"
     ]
    }
   ],
   "source": [
    "# berikan nama file pyomotest.py\n",
    "from pyomo.environ import * # For Pyomo 4.0 & later\n",
    "\n",
    "# from coopr.pyomo import * # For earlier versions\n",
    "\n",
    "model = ConcreteModel()\n",
    "SolverFactory('cbc').solve(model).write()\n",
    "\n",
    "expr = sum(i for i in range(31,36))\n",
    "\n",
    "print(expr)"
   ]
  },
  {
   "cell_type": "code",
   "execution_count": 1,
   "metadata": {},
   "outputs": [],
   "source": [
    "# Perintah dasar untuk menjalankan solver pyomo pada terminal\n",
    "# menggunakan solver cbc dan data dari file mydata.dat\n",
    "# pyomo solve pyomotest.py mydata.dat --solver='cbc'"
   ]
  }
 ],
 "metadata": {
  "kernelspec": {
   "display_name": "pypy3.9",
   "language": "python",
   "name": "python3"
  },
  "language_info": {
   "codemirror_mode": {
    "name": "ipython",
    "version": 3
   },
   "file_extension": ".py",
   "mimetype": "text/x-python",
   "name": "python",
   "nbconvert_exporter": "python",
   "pygments_lexer": "ipython3",
   "version": "3.9.10"
  },
  "orig_nbformat": 4
 },
 "nbformat": 4,
 "nbformat_minor": 2
}
